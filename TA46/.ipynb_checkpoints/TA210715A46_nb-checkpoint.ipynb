{
 "cells": [
  {
   "cell_type": "markdown",
   "metadata": {},
   "source": [
    "# TA210715A46\n",
    "##Summary\n",
    "\n",
    "This is an attempt at reducing the coupling by changing the spacing of the fingers pairs on the qubit IDT, pushing them to a higher frequency.\n",
    "\n",
    "|Qubit|      |\n",
    "|-----|------|\n",
    "|Finger type| double finger|\n",
    "| number of finger pairs $Np$ | 9 |\n",
    "| overlap length $W$| 25 $\\mu$m|\n",
    "| finger width, $a$  | 80 nm |\n",
    "|DC Junction Resistances | 8.93 k$\\Omega$, 9.35 k$\\Omega$|\n",
    "|metalization ratio | 50%|\n",
    "\n",
    "\n",
    "|Talking/Listening IDTs|    |\n",
    "|------------------|----------|\n",
    "|Finger type | double finger |\n",
    "|NUmber of finger pairs | 36 |\n",
    "|overlap length | 25 um \n",
    "| finger width | 96 nm | \n",
    "|metalization ratio | 50%|\n",
    "|Capacitance | 518 fF |\n",
    "| Center frequency | 4.54 GHz |"
   ]
  },
  {
   "cell_type": "markdown",
   "metadata": {},
   "source": [
    "|Calculated values qubit| Value   | Expression|\n",
    "|-----------------|-------|\n",
    "|Center frequency| 5.45 GHz | $v/(8a)$|\n",
    "|Gap $\\Delta(0)$    | 200e-6 eV | $1.764 k_B T_c$| \n",
    "| Normal resistance $R_n $| 9.14 kOhms | mean(DC junction resistances)|\n",
    "|Critical current, $I_c$ | 35 nA| $\\dfrac{\\pi \\Delta(0)}{2e}$ |Ambegaokar-Baratoff formula|\n",
    "| Ej_max | 0.82 K, 17 GHz| $\\dfrac{\\hbar I_c}{2e R_n}$ |\n",
    "|Capacitance from fingers Cq | 130 fF | ${\\sqrt{2} W N_{p} \\epsilon_\\infty}$ | \n",
    "| $E_c$ |  7.2 mK, 150 MHz | $\\dfrac{e^2}{2 C}$|\n",
    "|Ejmax/Ec | 115 | Ejmax/Ec |\n",
    "|Estimated max frequency of qubit | 4.32 GHz |\n"
   ]
  },
  {
   "cell_type": "markdown",
   "metadata": {},
   "source": [
    "##Fundamental definitions and calculate values"
   ]
  },
  {
   "cell_type": "code",
   "execution_count": 1,
   "metadata": {
    "collapsed": false
   },
   "outputs": [],
   "source": [
    "%matplotlib #inline\n",
    "import matplotlib.pyplot as plt\n",
    "from scipy.constants import e, k, h, hbar, epsilon_0 as eps0, pi\n",
    "from numpy import sqrt, float64, shape, reshape, linspace, log10, absolute\n",
    "from h5py import File\n",
    "\n",
    "def dB(x):\n",
    "    return 20*log10(absolute(x))\n",
    "\n",
    "#Table values:\n",
    "W=25.0e-6\n",
    "Npq=9\n",
    "aq=80.0e-9\n",
    "\n",
    "v=3488.0 #Literature value for LiNb YZ\n",
    "epsinf=46.0*eps0 #Literature value for LiNb YZ\n",
    "\n",
    "Tc=1.32 #critical temperature of aluminum\n",
    "Delta=200.0e-6*e\n",
    "Rn=(8.93e3+9.35e3)/2.0\n",
    "\n",
    "#Calculated values\n",
    "Ic=pi*Delta/(2.0*e)/Rn #Ambegaokar Baratoff formula\n",
    "Ejmax=hbar*Ic/(2.0*e)\n",
    "\n",
    "Cq=sqrt(2.0)*W*Npq*epsinf #Morgan\n",
    "Ec=e**2/(2.0*Cq)"
   ]
  },
  {
   "cell_type": "code",
   "execution_count": 43,
   "metadata": {
    "collapsed": false
   },
   "outputs": [
    {
     "name": "stdout",
     "output_type": "stream",
     "text": [
      "Fundamental constants:\n",
      "pi=3.14159265359\n",
      "e=1.602176565e-19\n",
      "k=1.3806488e-23\n",
      "h=6.62606957e-34\n",
      "hbar=1.05457172534e-34\n",
      "eps0=8.85418781762e-12\n",
      "\n",
      "Material constants (Lithium Niobate YZ):\n",
      "v=3488.0\n",
      "epsinf=4.07292639611e-10\n",
      "\n",
      "Sample constants:\n",
      "W=2.5e-05 m\n",
      "Npq=9\n",
      "a=8e-08\n",
      "Rn=9140.0\n",
      "Calculated values:\n",
      "check gap of aluminum, Delta=0.000200652861117\n",
      "Critical current, Ic=3.43719108708e-08\n",
      "Ejmax=0.819325005475 K= 17071962098.6 Hz\n",
      "Qubit capacitance = 1.29599724328e-13 F\n",
      "Ec = 0.00717304337314 K = 149461964.153 Hz\n",
      "Ejmax/Ec=114.222787017\n",
      "fq_max=sqrt(8*Ejmax*Ec)\n",
      "\n",
      "Qubit center frequency = 5450000000.0 Hz\n"
     ]
    }
   ],
   "source": [
    "if 1: #Double check values\n",
    "    print \"Fundamental constants:\"\n",
    "    print \"pi={}\".format(pi)\n",
    "    print \"e={}\".format(e)\n",
    "    print \"k={}\".format(k)\n",
    "    print \"h={}\".format(h)\n",
    "    print \"hbar={}\".format(hbar)\n",
    "    print \"eps0={}\".format(eps0)\n",
    "    print \n",
    "    print \"Material constants (Lithium Niobate YZ):\"\n",
    "    print \"v={}\".format(v)\n",
    "    print \"epsinf={}\".format(epsinf)\n",
    "    print \n",
    "    print \"Sample constants:\"\n",
    "    print \"W={} m\".format(W)\n",
    "    print \"Npq={}\".format(Npq)\n",
    "    print \"a={}\".format(aq)\n",
    "    print \"Rn={}\".format(Rn)\n",
    "    \n",
    "if 1: #print calculated values\n",
    "    print \"Calculated values:\"\n",
    "    print \"check gap of aluminum, Delta={}\".format(1.764*k*Tc/e)\n",
    "    print \"Critical current, Ic={}\".format(Ic) \n",
    "    print \"Ejmax={0} K= {1} Hz\".format(Ejmax/k, Ejmax/h)\n",
    "    print \"Qubit capacitance = {} F\".format(Cq)\n",
    "    print \"Ec = {0} K = {1} Hz\".format(Ec/k, Ec/h)\n",
    "    print \"Ejmax/Ec={}\".format(Ejmax/Ec)\n",
    "    print \"fq_max=sqrt(8*Ejmax*Ec)\".format(sqrt(8.0*Ejmax*Ec))\n",
    "    print\n",
    "    print \"Qubit center frequency = {} Hz\".format(v/(8*a))"
   ]
  },
  {
   "cell_type": "markdown",
   "metadata": {},
   "source": [
    "#Data"
   ]
  },
  {
   "cell_type": "code",
   "execution_count": null,
   "metadata": {
    "collapsed": false
   },
   "outputs": [
    {
     "name": "stdout",
     "output_type": "stream",
     "text": [
      "start data read\n",
      "[u'Rohde&Schwarz Network Analyzer - S12', u'Rohde&Schwarz Network Analyzer - S12_N', u'Rohde&Schwarz Network Analyzer - S12_t0dt', u'Time stamp']\n",
      "1e+06\n",
      "(301, 2, 4411)\n",
      "(11, 2, 401)\n",
      "(301, 11, 401)\n",
      "(301, 11, 401)"
     ]
    }
   ],
   "source": [
    "file_path=\"/Users/thomasaref/Dropbox/Current stuff/Logbook/TA210715A46_cooldown1/Data_1006/TA46_gate_flux_swp_4p2t4p5GHz.hdf5\"\n",
    "print \"start data read\"\n",
    "with File(file_path, 'r') as f:\n",
    "    print f[\"Traces\"].keys()\n",
    "    Magvec=f[\"Traces\"][\"Rohde&Schwarz Network Analyzer - S12\"]#[:]\n",
    "    data=f[\"Data\"][\"Data\"]\n",
    "    fstart=f[\"Traces\"]['Rohde&Schwarz Network Analyzer - S12_t0dt'][0][0]\n",
    "    fstep=f[\"Traces\"]['Rohde&Schwarz Network Analyzer - S12_t0dt'][0][1]\n",
    "    print fstep\n",
    "    print shape(Magvec)\n",
    "    print shape(data)\n",
    "    sm=shape(Magvec)[0]\n",
    "    sy=shape(data)\n",
    "    s=(sm, sy[0], sy[2]) \n",
    "    print s\n",
    "    Magcom=Magvec[:,0,:]+1j*Magvec[:,1,:]\n",
    "    Magcom=reshape(Magcom, s, order=\"F\")\n",
    "\n",
    "    #Magcom=delete(Magcom, 73, axis=1)\n",
    "    pwr=data[:, 0, 0]\n",
    "    #pwr=delete(pwr, 73)\n",
    "    yoko= data[0, 1, :]\n",
    "    yoko=yoko.astype(float64)\n",
    "    #print yoko\n",
    "    freq=linspace(fstart, fstart+fstep*(sm-1), sm)\n",
    "\n",
    "print shape(Magcom)\n",
    "print \"end data read\"\n",
    "\n",
    "\n",
    "\n",
    "powind=4\n",
    "frqind=234\n",
    "print pwr[powind]\n",
    "\n",
    "if 1:\n",
    "    plt.pcolormesh( dB(Magcom[:, 5, :]))\n",
    "    plt.show()\n"
   ]
  },
  {
   "cell_type": "code",
   "execution_count": null,
   "metadata": {
    "collapsed": true
   },
   "outputs": [],
   "source": []
  },
  {
   "cell_type": "code",
   "execution_count": null,
   "metadata": {
    "collapsed": true
   },
   "outputs": [],
   "source": []
  },
  {
   "cell_type": "code",
   "execution_count": null,
   "metadata": {
    "collapsed": true
   },
   "outputs": [],
   "source": []
  }
 ],
 "metadata": {
  "kernelspec": {
   "display_name": "Python 2",
   "language": "python",
   "name": "python2"
  },
  "language_info": {
   "codemirror_mode": {
    "name": "ipython",
    "version": 2
   },
   "file_extension": ".py",
   "mimetype": "text/x-python",
   "name": "python",
   "nbconvert_exporter": "python",
   "pygments_lexer": "ipython2",
   "version": "2.7.10"
  }
 },
 "nbformat": 4,
 "nbformat_minor": 0
}
